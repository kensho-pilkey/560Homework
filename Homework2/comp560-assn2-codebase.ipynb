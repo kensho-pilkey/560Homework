{
  "nbformat": 4,
  "nbformat_minor": 0,
  "metadata": {
    "colab": {
      "provenance": []
    },
    "kernelspec": {
      "name": "python3",
      "display_name": "Python 3"
    },
    "language_info": {
      "name": "python"
    }
  },
  "cells": [
    {
      "cell_type": "code",
      "execution_count": null,
      "metadata": {
        "id": "zUn0tMKzVVCS"
      },
      "outputs": [],
      "source": [
        "import math\n",
        "outputs = [0, 0, 2, 2, 1] # X_1 .. X_N\n",
        "transition_prob = [[0.55, 0.25, 0.2],\\\n",
        "                   [0.15, 0.7, 0.15],\\\n",
        "                   [0.2, 0.3, 0.4]]\n",
        "emission_prob = [[0.1, 0.3, 0.6],\\\n",
        "                 [0.2, 0.5, 0.3],\\\n",
        "                 [0.6, 0.3, 0.1]]\n",
        "start_prob = [0.3, 0.3, 0.4]"
      ]
    },
    {
      "cell_type": "code",
      "source": [
        "import math\n",
        "\n",
        "class HMM:\n",
        "  def __init__(self, transition_prob: list[list[int]], emission_prob: list[list[int]], start: list[int]):\n",
        "    # P(Y_(t+1) | Y_t)\n",
        "    self.transition_prob = transition_prob\n",
        "\n",
        "    # P(X_t | Y_t)\n",
        "    self.emission_prob = emission_prob\n",
        "\n",
        "    self.start = start\n",
        "\n",
        "  def joint_prob(self, outputs: list[int], hiddens: list[int]) -> list[float]:\n",
        "    # TODO\n",
        "    return None\n",
        "\n",
        "  def conditional_weights(self, outputs: list[int], hiddens: list[int], t: int) -> float:\n",
        "    # TODO\n",
        "    return None"
      ],
      "metadata": {
        "id": "AbSSWyHioPr6"
      },
      "execution_count": null,
      "outputs": []
    },
    {
      "cell_type": "code",
      "source": [
        "hmm = HMM(transition_prob, emission_prob, start_prob)"
      ],
      "metadata": {
        "id": "JyodvskCFXYL"
      },
      "execution_count": null,
      "outputs": []
    },
    {
      "cell_type": "code",
      "source": [
        "# Test cases\n",
        "hmm.joint_prob([0,0,2,2,1], [1,1,1,1,1])\n",
        "# about 0.000129654\n",
        "hmm.joint_prob([0,0,2,2,1], [2,2,0,0,1])\n",
        "# 0.00028512"
      ],
      "metadata": {
        "id": "XqAkOs3fFKpU"
      },
      "execution_count": null,
      "outputs": []
    },
    {
      "cell_type": "code",
      "source": [
        "import itertools\n",
        "\n",
        "def get_most_likely_hidden_states(hmm: HMM, outputs: list[int]):\n",
        "  # TODO\n",
        "\n",
        "  # iterate over possible hidden states\n",
        "  for hiddens in itertools.product([0,1,2],repeat=5):\n",
        "    hiddens = list(hiddens) # convert to list\n",
        "    pass\n",
        "    # TODO\n",
        "\n",
        "  pass\n"
      ],
      "metadata": {
        "id": "HAZllJMwpARK"
      },
      "execution_count": null,
      "outputs": []
    },
    {
      "cell_type": "code",
      "source": [
        "get_most_likely_hidden_states(hmm, outputs)"
      ],
      "metadata": {
        "id": "juB1P-wNl3DA"
      },
      "execution_count": null,
      "outputs": []
    },
    {
      "cell_type": "markdown",
      "source": [
        "# Gibbs Sampling"
      ],
      "metadata": {
        "id": "dvG5mecznEvB"
      }
    },
    {
      "cell_type": "code",
      "source": [
        "# Test cases\n",
        "print(hmm.conditional_weights([0,0,2,2,1], [1,1,1,1,1], 2))\n",
        "# about [0.0225, 0.147, 0.0045]\n",
        "print(hmm.conditional_weights([0,0,2,2,1], [2,2,0,0,1], 2))\n",
        "# about [0.066, 0.0135, 0.00800000000000000]"
      ],
      "metadata": {
        "id": "mlfz3KvGuis2",
        "outputId": "c0983a78-e3d8-457b-b861-19ac6bc98d4a",
        "colab": {
          "base_uri": "https://localhost:8080/",
          "height": 215
        }
      },
      "execution_count": null,
      "outputs": [
        {
          "output_type": "error",
          "ename": "NameError",
          "evalue": "name 'hmm' is not defined",
          "traceback": [
            "\u001b[0;31m---------------------------------------------------------------------------\u001b[0m",
            "\u001b[0;31mNameError\u001b[0m                                 Traceback (most recent call last)",
            "\u001b[0;32m<ipython-input-2-1f05256be646>\u001b[0m in \u001b[0;36m<cell line: 2>\u001b[0;34m()\u001b[0m\n\u001b[1;32m      1\u001b[0m \u001b[0;31m# Test cases\u001b[0m\u001b[0;34m\u001b[0m\u001b[0;34m\u001b[0m\u001b[0m\n\u001b[0;32m----> 2\u001b[0;31m \u001b[0mprint\u001b[0m\u001b[0;34m(\u001b[0m\u001b[0mhmm\u001b[0m\u001b[0;34m.\u001b[0m\u001b[0mconditional_weights\u001b[0m\u001b[0;34m(\u001b[0m\u001b[0;34m[\u001b[0m\u001b[0;36m0\u001b[0m\u001b[0;34m,\u001b[0m\u001b[0;36m0\u001b[0m\u001b[0;34m,\u001b[0m\u001b[0;36m2\u001b[0m\u001b[0;34m,\u001b[0m\u001b[0;36m2\u001b[0m\u001b[0;34m,\u001b[0m\u001b[0;36m1\u001b[0m\u001b[0;34m]\u001b[0m\u001b[0;34m,\u001b[0m \u001b[0;34m[\u001b[0m\u001b[0;36m1\u001b[0m\u001b[0;34m,\u001b[0m\u001b[0;36m1\u001b[0m\u001b[0;34m,\u001b[0m\u001b[0;36m1\u001b[0m\u001b[0;34m,\u001b[0m\u001b[0;36m1\u001b[0m\u001b[0;34m,\u001b[0m\u001b[0;36m1\u001b[0m\u001b[0;34m]\u001b[0m\u001b[0;34m,\u001b[0m \u001b[0;36m2\u001b[0m\u001b[0;34m)\u001b[0m\u001b[0;34m)\u001b[0m\u001b[0;34m\u001b[0m\u001b[0;34m\u001b[0m\u001b[0m\n\u001b[0m\u001b[1;32m      3\u001b[0m \u001b[0;31m# about [0.0225, 0.147, 0.0045]\u001b[0m\u001b[0;34m\u001b[0m\u001b[0;34m\u001b[0m\u001b[0m\n\u001b[1;32m      4\u001b[0m \u001b[0mprint\u001b[0m\u001b[0;34m(\u001b[0m\u001b[0mhmm\u001b[0m\u001b[0;34m.\u001b[0m\u001b[0mconditional_weights\u001b[0m\u001b[0;34m(\u001b[0m\u001b[0;34m[\u001b[0m\u001b[0;36m0\u001b[0m\u001b[0;34m,\u001b[0m\u001b[0;36m0\u001b[0m\u001b[0;34m,\u001b[0m\u001b[0;36m2\u001b[0m\u001b[0;34m,\u001b[0m\u001b[0;36m2\u001b[0m\u001b[0;34m,\u001b[0m\u001b[0;36m1\u001b[0m\u001b[0;34m]\u001b[0m\u001b[0;34m,\u001b[0m \u001b[0;34m[\u001b[0m\u001b[0;36m2\u001b[0m\u001b[0;34m,\u001b[0m\u001b[0;36m2\u001b[0m\u001b[0;34m,\u001b[0m\u001b[0;36m0\u001b[0m\u001b[0;34m,\u001b[0m\u001b[0;36m0\u001b[0m\u001b[0;34m,\u001b[0m\u001b[0;36m1\u001b[0m\u001b[0;34m]\u001b[0m\u001b[0;34m,\u001b[0m \u001b[0;36m2\u001b[0m\u001b[0;34m)\u001b[0m\u001b[0;34m)\u001b[0m\u001b[0;34m\u001b[0m\u001b[0;34m\u001b[0m\u001b[0m\n\u001b[1;32m      5\u001b[0m \u001b[0;31m# about [0.066, 0.0135, 0.00800000000000000]\u001b[0m\u001b[0;34m\u001b[0m\u001b[0;34m\u001b[0m\u001b[0m\n",
            "\u001b[0;31mNameError\u001b[0m: name 'hmm' is not defined"
          ]
        }
      ]
    },
    {
      "cell_type": "code",
      "source": [
        "# Perform a single Gibbs sample Y_1 .. Y_N ~ P(Y_1 .. Y_N | X_1 .. X_N)\n",
        "import random\n",
        "\n",
        "def gibbs_sample(hmm: HMM, outputs: list[int]) -> list[list[int]]:\n",
        "  # TODO\n",
        "\n",
        "  return None"
      ],
      "metadata": {
        "id": "i_HeCWOLo0ZV"
      },
      "execution_count": null,
      "outputs": []
    },
    {
      "cell_type": "code",
      "source": [
        "import collections\n",
        "def estimate_likely_hidden_states(hmm: HMM, outputs: list[int]):\n",
        "  # TODO\n",
        "  pass"
      ],
      "metadata": {
        "id": "0fZEX27glNkN"
      },
      "execution_count": null,
      "outputs": []
    },
    {
      "cell_type": "code",
      "source": [
        "estimate_likely_hidden_states(hmm, outputs)"
      ],
      "metadata": {
        "colab": {
          "base_uri": "https://localhost:8080/",
          "height": 144
        },
        "id": "Jib33tKbnjSd",
        "outputId": "8215c714-6ce2-4331-d27e-5e619c157dd0"
      },
      "execution_count": null,
      "outputs": [
        {
          "output_type": "error",
          "ename": "NameError",
          "evalue": "name 'estimate_likely_hidden_states' is not defined",
          "traceback": [
            "\u001b[0;31m---------------------------------------------------------------------------\u001b[0m",
            "\u001b[0;31mNameError\u001b[0m                                 Traceback (most recent call last)",
            "\u001b[0;32m<ipython-input-7-8609360a2e96>\u001b[0m in \u001b[0;36m<cell line: 1>\u001b[0;34m()\u001b[0m\n\u001b[0;32m----> 1\u001b[0;31m \u001b[0mestimate_likely_hidden_states\u001b[0m\u001b[0;34m(\u001b[0m\u001b[0mhmm\u001b[0m\u001b[0;34m,\u001b[0m \u001b[0moutputs\u001b[0m\u001b[0;34m)\u001b[0m\u001b[0;34m\u001b[0m\u001b[0;34m\u001b[0m\u001b[0m\n\u001b[0m",
            "\u001b[0;31mNameError\u001b[0m: name 'estimate_likely_hidden_states' is not defined"
          ]
        }
      ]
    },
    {
      "cell_type": "code",
      "source": [],
      "metadata": {
        "id": "9GITNQ3-qH4F"
      },
      "execution_count": null,
      "outputs": []
    }
  ]
}