{
  "cells": [
    {
      "cell_type": "code",
      "execution_count": 43,
      "metadata": {
        "id": "zUn0tMKzVVCS"
      },
      "outputs": [],
      "source": [
        "import math\n",
        "outputs = [0, 0, 2, 2, 1] # X_1 .. X_N\n",
        "transition_prob = [[0.55, 0.25, 0.2],\\\n",
        "                   [0.15, 0.7, 0.15],\\\n",
        "                   [0.2, 0.3, 0.4]]\n",
        "emission_prob = [[0.1, 0.3, 0.6],\\\n",
        "                 [0.2, 0.5, 0.3],\\\n",
        "                 [0.6, 0.3, 0.1]]\n",
        "start_prob = [0.3, 0.3, 0.4]"
      ]
    },
    {
      "cell_type": "code",
      "execution_count": 45,
      "metadata": {
        "id": "AbSSWyHioPr6"
      },
      "outputs": [],
      "source": [
        "import math\n",
        "\n",
        "class HMM:\n",
        "  def __init__(self, transition_prob: list[list[int]], emission_prob: list[list[int]], start: list[int]):\n",
        "    # P(Y_(t+1) | Y_t)\n",
        "    self.transition_prob = transition_prob\n",
        "\n",
        "    # P(X_t | Y_t)\n",
        "    self.emission_prob = emission_prob\n",
        "\n",
        "    self.start = start\n",
        "\n",
        "  def joint_prob(self, outputs: list[int], hiddens: list[int]) -> list[float]:\n",
        "    if len(outputs) != len(hiddens):\n",
        "        raise ValueError(\"Output and hidden sequences must have the same length\")\n",
        "    \n",
        "    joint_p = self.start[hiddens[0]] * self.emission_prob[hiddens[0]][outputs[0]]\n",
        "    \n",
        "    for t in range(1, len(outputs)):\n",
        "        transition_p = self.transition_prob[hiddens[t-1]][hiddens[t]]\n",
        "        emission_p = self.emission_prob[hiddens[t]][outputs[t]]\n",
        "        joint_p *= transition_p * emission_p\n",
        "    \n",
        "    return joint_p\n",
        "\n",
        "  def conditional_weights(self, outputs: list[int], hiddens: list[int], t: int) -> float:\n",
        "    n = len(outputs)\n",
        "    num_states = 3  # Number of possible states (0, 1, 2)\n",
        "    weights = [0.0] * num_states\n",
        "    \n",
        "    for y in range(num_states):\n",
        "        weight = 1.0\n",
        "        if t == 0:\n",
        "            weight *= self.start[y]\n",
        "        else:\n",
        "            weight *= self.transition_prob[hiddens[t-1]][y]\n",
        "        \n",
        "        if t < n - 1:\n",
        "            weight *= self.transition_prob[y][hiddens[t+1]]\n",
        "        \n",
        "        weight *= self.emission_prob[y][outputs[t]]\n",
        "        \n",
        "        weights[y] = weight\n",
        "    \n",
        "    return weights"
      ]
    },
    {
      "cell_type": "code",
      "execution_count": 46,
      "metadata": {
        "id": "JyodvskCFXYL"
      },
      "outputs": [],
      "source": [
        "hmm = HMM(transition_prob, emission_prob, start_prob)"
      ]
    },
    {
      "cell_type": "code",
      "execution_count": 47,
      "metadata": {
        "id": "XqAkOs3fFKpU"
      },
      "outputs": [
        {
          "data": {
            "text/plain": [
              "0.00012965399999999996"
            ]
          },
          "execution_count": 47,
          "metadata": {},
          "output_type": "execute_result"
        }
      ],
      "source": [
        "# Test cases\n",
        "hmm.joint_prob([0,0,2,2,1], [1,1,1,1,1])\n",
        "# about 0.000129654\n"
      ]
    },
    {
      "cell_type": "code",
      "execution_count": 48,
      "metadata": {},
      "outputs": [
        {
          "data": {
            "text/plain": [
              "0.00028512"
            ]
          },
          "execution_count": 48,
          "metadata": {},
          "output_type": "execute_result"
        }
      ],
      "source": [
        "hmm.joint_prob([0,0,2,2,1], [2,2,0,0,1])\n",
        "# 0.00028512"
      ]
    },
    {
      "cell_type": "code",
      "execution_count": 49,
      "metadata": {
        "id": "HAZllJMwpARK"
      },
      "outputs": [],
      "source": [
        "import itertools\n",
        "\n",
        "def get_most_likely_hidden_states(hmm: HMM, outputs: list[int]):\n",
        "  joint_probs = {}\n",
        "    \n",
        "  # iterate over possible hidden states\n",
        "  for hiddens in itertools.product([0, 1, 2], repeat=len(outputs)):\n",
        "      hiddens_list = list(hiddens)  # convert to list\n",
        "      prob = hmm.joint_prob(outputs, hiddens_list)\n",
        "      joint_probs[hiddens] = prob\n",
        "  \n",
        "  # Calculate P(X_1,...,X_n) by summing P(Y_1,...,Y_n,X_1,...,X_n) over all possible values of Y\n",
        "  evidence = sum(joint_probs.values())\n",
        "  \n",
        "  # Calculate conditional probabilities P(Y_1,...,Y_n|X_1,...,X_n)\n",
        "  conditional_probs = {hiddens: prob / evidence for hiddens, prob in joint_probs.items()}\n",
        "  \n",
        "  # Find the sequence with the highest conditional probability\n",
        "  max_prob = -1\n",
        "  best_hiddens = None\n",
        "  \n",
        "  for hiddens, prob in conditional_probs.items():\n",
        "      if prob > max_prob:\n",
        "          max_prob = prob\n",
        "          best_hiddens = list(hiddens)  # convert tuple to list\n",
        "  \n",
        "  # Get the top 10 sequences by conditional probability\n",
        "  top_sequences = sorted(conditional_probs.items(), key=lambda x: x[1], reverse=True)[:10]\n",
        "  \n",
        "  for i, (hiddens, prob) in enumerate(top_sequences):\n",
        "      # Get the joint probability for this sequence\n",
        "      joint_prob = joint_probs[hiddens]\n",
        "      print(f\"{i+1}. Sequence: {list(hiddens)}, Conditional Prob: {prob}, Joint Prob: {joint_prob}\")\n",
        "  \n",
        "  return best_hiddens, max_prob\n"
      ]
    },
    {
      "cell_type": "code",
      "execution_count": 50,
      "metadata": {
        "id": "juB1P-wNl3DA"
      },
      "outputs": [
        {
          "name": "stdout",
          "output_type": "stream",
          "text": [
            "1. Sequence: [2, 2, 1, 1, 1], Conditional Prob: 0.10142053368734855, Joint Prob: 0.00038102399999999994\n",
            "2. Sequence: [2, 2, 0, 0, 0], Conditional Prob: 0.10017864960138104, Joint Prob: 0.0003763584\n",
            "3. Sequence: [2, 2, 0, 0, 1], Conditional Prob: 0.0758929163646826, Joint Prob: 0.00028512\n",
            "4. Sequence: [2, 1, 1, 1, 1], Conditional Prob: 0.05916197798428665, Joint Prob: 0.00022226399999999996\n",
            "5. Sequence: [2, 2, 0, 1, 1], Conditional Prob: 0.04829549223207073, Joint Prob: 0.00018143999999999997\n",
            "6. Sequence: [2, 2, 0, 0, 2], Conditional Prob: 0.03642859985504764, Joint Prob: 0.00013685759999999998\n",
            "7. Sequence: [1, 1, 1, 1, 1], Conditional Prob: 0.03451115382416721, Joint Prob: 0.00012965399999999996\n",
            "8. Sequence: [2, 0, 0, 0, 0], Conditional Prob: 0.02295760720031649, Joint Prob: 8.624880000000002e-05\n",
            "9. Sequence: [2, 2, 1, 0, 0], Conditional Prob: 0.0204910874184643, Joint Prob: 7.698239999999999e-05\n",
            "10. Sequence: [2, 2, 2, 1, 1], Conditional Prob: 0.019318196892828304, Joint Prob: 7.257600000000002e-05\n"
          ]
        },
        {
          "data": {
            "text/plain": [
              "([2, 2, 1, 1, 1], 0.10142053368734855)"
            ]
          },
          "execution_count": 50,
          "metadata": {},
          "output_type": "execute_result"
        }
      ],
      "source": [
        "get_most_likely_hidden_states(hmm, outputs)"
      ]
    },
    {
      "cell_type": "markdown",
      "metadata": {
        "id": "dvG5mecznEvB"
      },
      "source": [
        "# Gibbs Sampling"
      ]
    },
    {
      "cell_type": "code",
      "execution_count": 51,
      "metadata": {
        "colab": {
          "base_uri": "https://localhost:8080/",
          "height": 215
        },
        "id": "mlfz3KvGuis2",
        "outputId": "c0983a78-e3d8-457b-b861-19ac6bc98d4a"
      },
      "outputs": [
        {
          "name": "stdout",
          "output_type": "stream",
          "text": [
            "[0.0225, 0.14699999999999996, 0.0045]\n",
            "[0.066, 0.0135, 0.008000000000000002]\n"
          ]
        }
      ],
      "source": [
        "# Test cases\n",
        "print(hmm.conditional_weights([0,0,2,2,1], [1,1,1,1,1], 2))\n",
        "# about [0.0225, 0.147, 0.0045]\n",
        "print(hmm.conditional_weights([0,0,2,2,1], [2,2,0,0,1], 2))\n",
        "# about [0.066, 0.0135, 0.00800000000000000]"
      ]
    },
    {
      "cell_type": "code",
      "execution_count": 52,
      "metadata": {
        "id": "i_HeCWOLo0ZV"
      },
      "outputs": [],
      "source": [
        "# Perform a single Gibbs sample Y_1 .. Y_N ~ P(Y_1 .. Y_N | X_1 .. X_N)\n",
        "import random\n",
        "\n",
        "def gibbs_sample(hmm: HMM, outputs: list[int]) -> list[list[int]]:\n",
        "  n = len(outputs)\n",
        "  num_states = len(hmm.start)\n",
        "  \n",
        "  # Initialize with a random sequence\n",
        "  hiddens = [random.choice(range(num_states)) for _ in range(n)]\n",
        "  \n",
        "  # Perform one Gibbs sweep through all positions\n",
        "  for t in range(n):\n",
        "      weights = hmm.conditional_weights(outputs, hiddens, t)\n",
        "\n",
        "      hiddens[t] = random.choices(population=range(num_states), weights=weights, k=1)[0]\n",
        "  \n",
        "  return hiddens"
      ]
    },
    {
      "cell_type": "code",
      "execution_count": 53,
      "metadata": {
        "id": "0fZEX27glNkN"
      },
      "outputs": [],
      "source": [
        "import collections\n",
        "def estimate_likely_hidden_states(hmm: HMM, outputs: list[int]):\n",
        "  hiddens = [random.choice(range(len(hmm.start))) for _ in range(len(outputs))]\n",
        "  for _ in range(1000):  # 1000 Warm-up iterations on outer\n",
        "      hiddens = gibbs_sample(hmm, outputs)\n",
        "  \n",
        "  # Collect samples\n",
        "  samples = []\n",
        "  for _ in range(5000):  # 5000 actual sampling iterations\n",
        "      hiddens = gibbs_sample(hmm, outputs)\n",
        "      samples.append(tuple(hiddens))\n",
        "  \n",
        "  counter = collections.Counter(samples)\n",
        "  most_common = counter.most_common(10)\n",
        "  \n",
        "  # Calculate joint probabilities for the most common sequences\n",
        "  result = []\n",
        "  for sequence, count in most_common:\n",
        "      sequence_list = list(sequence)\n",
        "      joint_prob = hmm.joint_prob(outputs, sequence_list)\n",
        "      result.append((sequence_list, joint_prob, count/5000))\n",
        "  \n",
        "  result.sort(key=lambda x: x[1], reverse=True)\n",
        "  \n",
        "  for i, (seq, prob, freq) in enumerate(result):\n",
        "      print(f\"{i+1}. Sequence: {seq}, Probability: {prob}, Frequency: {freq}\")\n",
        "  \n",
        "  return [seq for seq, _, _ in result]"
      ]
    },
    {
      "cell_type": "code",
      "execution_count": 54,
      "metadata": {
        "colab": {
          "base_uri": "https://localhost:8080/",
          "height": 144
        },
        "id": "Jib33tKbnjSd",
        "outputId": "8215c714-6ce2-4331-d27e-5e619c157dd0"
      },
      "outputs": [
        {
          "name": "stdout",
          "output_type": "stream",
          "text": [
            "1. Sequence: [2, 2, 1, 1, 1], Probability: 0.00038102399999999994, Frequency: 0.0812\n",
            "2. Sequence: [2, 2, 0, 0, 0], Probability: 0.0003763584, Frequency: 0.0848\n",
            "3. Sequence: [2, 2, 0, 0, 1], Probability: 0.00028512, Frequency: 0.073\n",
            "4. Sequence: [2, 1, 1, 1, 1], Probability: 0.00022226399999999996, Frequency: 0.0404\n",
            "5. Sequence: [2, 2, 0, 1, 1], Probability: 0.00018143999999999997, Frequency: 0.04\n",
            "6. Sequence: [2, 2, 0, 0, 2], Probability: 0.00013685759999999998, Frequency: 0.0342\n",
            "7. Sequence: [1, 1, 1, 1, 1], Probability: 0.00012965399999999996, Frequency: 0.029\n",
            "8. Sequence: [2, 2, 1, 0, 0], Probability: 7.698239999999999e-05, Frequency: 0.0302\n",
            "9. Sequence: [2, 2, 2, 1, 1], Probability: 7.257600000000002e-05, Frequency: 0.0242\n",
            "10. Sequence: [2, 2, 2, 0, 0], Probability: 4.561920000000001e-05, Frequency: 0.0248\n"
          ]
        },
        {
          "data": {
            "text/plain": [
              "[[2, 2, 1, 1, 1],\n",
              " [2, 2, 0, 0, 0],\n",
              " [2, 2, 0, 0, 1],\n",
              " [2, 1, 1, 1, 1],\n",
              " [2, 2, 0, 1, 1],\n",
              " [2, 2, 0, 0, 2],\n",
              " [1, 1, 1, 1, 1],\n",
              " [2, 2, 1, 0, 0],\n",
              " [2, 2, 2, 1, 1],\n",
              " [2, 2, 2, 0, 0]]"
            ]
          },
          "execution_count": 54,
          "metadata": {},
          "output_type": "execute_result"
        }
      ],
      "source": [
        "estimate_likely_hidden_states(hmm, outputs)"
      ]
    }
  ],
  "metadata": {
    "colab": {
      "provenance": []
    },
    "kernelspec": {
      "display_name": "base",
      "language": "python",
      "name": "python3"
    },
    "language_info": {
      "codemirror_mode": {
        "name": "ipython",
        "version": 3
      },
      "file_extension": ".py",
      "mimetype": "text/x-python",
      "name": "python",
      "nbconvert_exporter": "python",
      "pygments_lexer": "ipython3",
      "version": "3.12.7"
    }
  },
  "nbformat": 4,
  "nbformat_minor": 0
}
