{
  "nbformat": 4,
  "nbformat_minor": 0,
  "metadata": {
    "colab": {
      "provenance": [],
      "gpuType": "T4"
    },
    "kernelspec": {
      "name": "python3",
      "display_name": "Python 3"
    },
    "language_info": {
      "name": "python"
    },
    "accelerator": "GPU"
  },
  "cells": [
    {
      "cell_type": "code",
      "source": [
        "from heapq import heappush, heappop\n",
        "\n",
        "class Node:\n",
        "  def __init__(self, state, parent, depth):\n",
        "    self.state = state\n",
        "    self.parent = parent\n",
        "    self.depth = depth\n",
        "\n",
        "  def __lt__(self, other):\n",
        "    return self.state < other.state\n",
        "\n",
        "class PriorityQueue:\n",
        "  def __init__(self):\n",
        "    self.list = []\n",
        "\n",
        "  def push(self, value, content):\n",
        "    \"\"\" Add a node into the queue with priority value \"\"\"\n",
        "    # The middle value in the tuple is used as a tiebreaker\n",
        "    # if the priority value is the same for multiple nodes.\n",
        "    heappush(self.list, (value, len(self.list), content))\n",
        "\n",
        "  def pop(self):\n",
        "    \"\"\" Get the node with the smallest priority value \"\"\"\n",
        "    return heappop(self.list)[2]\n",
        "\n",
        "  def __len__(self):\n",
        "    \"\"\" Get the size of the queue. You can call len(queue) \"\"\"\n",
        "    return len(self.list)\n",
        "\n",
        "class Searcher:\n",
        "  def __init__(self):\n",
        "    self.expanded_nodes_count = 0\n",
        "\n",
        "  def search(self, start):\n",
        "    pass\n",
        "\n",
        "class State:\n",
        "  def __init__(self, grid):\n",
        "    self.grid = grid\n",
        "\n",
        "  def __hash__(self):\n",
        "    return hash((self.grid[0][0], self.grid[0][1], self.grid[0][2], \\\n",
        "                 self.grid[1][0], self.grid[1][1], self.grid[1][2], \\\n",
        "                 self.grid[2][0], self.grid[2][1], self.grid[2][2], ))\n",
        "\n",
        "  def __eq__(self, other):\n",
        "    return self.grid == other.grid\n",
        "\n"
      ],
      "metadata": {
        "id": "glJI9KsXz_4L"
      },
      "execution_count": 2,
      "outputs": []
    },
    {
      "cell_type": "code",
      "source": [
        "def successors(state):\n",
        "    # TODO implement\n",
        "    successors = []\n",
        "    row = None\n",
        "    col = None\n",
        "\n",
        "    #Find the 0\n",
        "    for i in range(3):\n",
        "        for j in range(3):\n",
        "          if state[i][j] == 0:\n",
        "            row = i\n",
        "            col = j\n",
        "            break\n",
        "        if row is not None:\n",
        "          break\n",
        "\n",
        "    next_dir = [(1,0), (0,1), (-1,0), (0,-1)]\n",
        "\n",
        "    for r, c in next_dir:\n",
        "      new_row = row + r\n",
        "      new_col = col + c\n",
        "      if new_row >= 0 and new_row < 3 and new_col >= 0 and new_col < 3:\n",
        "        new_grid = [row[:] for row in state]\n",
        "        new_grid[row][col] = new_grid[new_row][new_col]\n",
        "        new_grid[new_row][new_col] = 0\n",
        "\n",
        "        successors.append(new_grid)\n",
        "    return successors\n",
        "\n",
        "GOAL = [[1,2,3],[4,5,6],[7,8,0]]\n",
        "\n",
        "def is_goal(node):\n",
        "    # TODO implement\n",
        "    return node.state.grid == GOAL"
      ],
      "metadata": {
        "id": "hGAEB4O3BYdz"
      },
      "execution_count": 9,
      "outputs": []
    },
    {
      "cell_type": "code",
      "source": [
        "# Example test cases\n",
        "print(successors([[1,3,6],[4,0,5],[7,8,2]]))\n",
        "#  [[[1, 3, 6], [4, 8, 5], [7, 0, 2]], \\\n",
        "#  [[1, 3, 6], [4, 5, 0], [7, 8, 2]], \\\n",
        "#  [[1, 0, 6], [4, 3, 5], [7, 8, 2]], \\\n",
        "#  [[1, 3, 6], [0, 4, 5], [7, 8, 2]]]\n",
        "\n",
        "print(successors([[7,1,2],[5,6,3],[0,4,8]]))\n",
        "# [[[7, 1, 2], [5, 6, 3], [4, 0, 8]], [[7, 1, 2], [0, 6, 3], [5, 4, 8]]]"
      ],
      "metadata": {
        "id": "mL46c1w1YTn6",
        "colab": {
          "base_uri": "https://localhost:8080/"
        },
        "outputId": "e97a7f84-45e6-420e-ed19-c0785ed83c6f"
      },
      "execution_count": 10,
      "outputs": [
        {
          "output_type": "stream",
          "name": "stdout",
          "text": [
            "[[[1, 3, 6], [4, 8, 5], [7, 0, 2]], [[1, 3, 6], [4, 5, 0], [7, 8, 2]], [[1, 0, 6], [4, 3, 5], [7, 8, 2]], [[1, 3, 6], [0, 4, 5], [7, 8, 2]]]\n",
            "[[[7, 1, 2], [5, 6, 3], [4, 0, 8]], [[7, 1, 2], [0, 6, 3], [5, 4, 8]]]\n"
          ]
        }
      ]
    },
    {
      "cell_type": "code",
      "source": [
        "from collections import deque\n",
        "\n",
        "class BfsSearcher(Searcher):\n",
        "  def __init__(self):\n",
        "    super().__init__()\n",
        "  def search(self, start):\n",
        "    # TODO implement\n",
        "    queue = deque(Node(start, None, 0))\n",
        "\n",
        "    visited = []\n",
        "    visited.append(start)\n",
        "\n",
        "    while queue:\n",
        "      curr = queue.popleft()\n",
        "      self.expanded_nodes_count += 1\n",
        "\n",
        "      if is_goal(curr):\n",
        "        return node\n",
        "\n",
        "    return None"
      ],
      "metadata": {
        "id": "JSP3OtwtBVZn"
      },
      "execution_count": 11,
      "outputs": []
    },
    {
      "cell_type": "code",
      "source": [
        "import time\n",
        "\n",
        "start_easy = [[1,2,3],[5,0,7],[4,8,6]]\n",
        "\n",
        "start_hard = [[1,2,3],[4,7,6],[0,8,5]]\n",
        "\n",
        "\n",
        "for i, state in enumerate([start_easy, start_hard]):\n",
        "  print(f\"=== State {i} ===\")\n",
        "  t = time.time()\n",
        "  searcher = BfsSearcher()\n",
        "  sol = searcher.search(state)\n",
        "  elapsed_time = time.time() - t\n",
        "  print(\"Elapsed time for BFS:\", elapsed_time)\n",
        "  print(\"Expanded nodes for BFS:\", searcher.expanded_nodes_count)\n",
        "  print(\"Depth for BFS:\", sol.depth)\n"
      ],
      "metadata": {
        "id": "xET6ldzBdbfN"
      },
      "execution_count": null,
      "outputs": []
    },
    {
      "cell_type": "code",
      "source": [
        "class IdsSearcher(Searcher):\n",
        "  def __init__(self):\n",
        "    super().__init__()\n",
        "  def search(self, start):\n",
        "    # TODO implement\n",
        "    return None"
      ],
      "metadata": {
        "id": "CuRo2AWZFWkX"
      },
      "execution_count": null,
      "outputs": []
    },
    {
      "cell_type": "markdown",
      "source": [],
      "metadata": {
        "id": "cDquHIQ6r8jD"
      }
    },
    {
      "cell_type": "code",
      "source": [
        "# Run the algorithm\n",
        "\n",
        "for i, state in enumerate([start_easy, start_hard]):\n",
        "  t = time.time()\n",
        "  searcher = IdsSearcher()\n",
        "  sol = searcher.search(state)\n",
        "  elapsed_time = time.time() - t\n",
        "  print(\"Elapsed time for IDS:\", elapsed_time)\n",
        "  print(\"Expanded nodes for IDS:\", searcher.expanded_nodes_count)\n",
        "  print(\"Depth for IDS:\", sol.depth)"
      ],
      "metadata": {
        "id": "GbbD3QddE4Vz"
      },
      "execution_count": null,
      "outputs": []
    },
    {
      "cell_type": "code",
      "source": [
        "def manhattan_heuristic(node):\n",
        "    # TODO implement\n",
        "\n",
        "    return 0\n",
        "\n",
        "def misplaced_tiles_heuristic(node):\n",
        "    # TODO implement\n",
        "\n",
        "    return 0\n",
        "\n",
        "class AStarSearcher(Searcher):\n",
        "  def __init__(self):\n",
        "    super().__init__()\n",
        "  def search(self, start, heuristic):\n",
        "    # TODO implement\n",
        "    return None"
      ],
      "metadata": {
        "id": "Tng_eQxoHfBV"
      },
      "execution_count": null,
      "outputs": []
    },
    {
      "cell_type": "code",
      "source": [
        "# Example test cases\n",
        "print(manhattan_heuristic([[7,1,2],[5,6,3],[0,4,8]]))\n",
        "# should be 10\n",
        "\n",
        "print(misplaced_tiles_heuristic([[1,2,3],[0,5,6],[4,7,8]]))\n",
        "# should be 3"
      ],
      "metadata": {
        "id": "6H6hUreMqKgI"
      },
      "execution_count": null,
      "outputs": []
    },
    {
      "cell_type": "code",
      "source": [
        "for i, state in enumerate([start_easy, start_hard]):\n",
        "  print(f\"=== State {i} ===\")\n",
        "\n",
        "  t = time.time()\n",
        "  searcher = AStarSearcher()\n",
        "  sol = searcher.search(state, manhattan_heuristic)\n",
        "  elapsed_time = time.time() - t\n",
        "  print(\"Elapsed time for A star with Manhattan:\", elapsed_time)\n",
        "  print(\"Expanded nodes for A star\", searcher.expanded_nodes_count)\n",
        "  print(\"Depth for BFS:\", sol.depth)\n",
        "\n",
        "  t = time.time()\n",
        "  searcher = AStarSearcher()\n",
        "  sol = searcher.search(state, misplaced_tiles_heuristic)\n",
        "  elapsed_time = time.time() - t\n",
        "  print(\"Elapsed time for A star with Misplaced Tiles:\", elapsed_time)\n",
        "  print(\"Expanded nodes for A star\", searcher.expanded_nodes_count)\n",
        "  print(\"Depth for BFS:\", sol.depth)\n"
      ],
      "metadata": {
        "id": "zgdxgekie45N"
      },
      "execution_count": null,
      "outputs": []
    },
    {
      "cell_type": "code",
      "source": [],
      "metadata": {
        "id": "zUgWRh_MBwf8"
      },
      "execution_count": null,
      "outputs": []
    }
  ]
}