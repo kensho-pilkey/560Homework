{
  "cells": [
    {
      "cell_type": "code",
      "execution_count": 21,
      "metadata": {
        "id": "glJI9KsXz_4L"
      },
      "outputs": [],
      "source": [
        "from heapq import heappush, heappop\n",
        "\n",
        "class Node:\n",
        "  def __init__(self, state, parent, depth):\n",
        "    self.state = state\n",
        "    self.parent = parent\n",
        "    self.depth = depth\n",
        "\n",
        "  def __lt__(self, other):\n",
        "    return self.state < other.state\n",
        "\n",
        "class PriorityQueue:\n",
        "  def __init__(self):\n",
        "    self.list = []\n",
        "\n",
        "  def push(self, value, content):\n",
        "    \"\"\" Add a node into the queue with priority value \"\"\"\n",
        "    # The middle value in the tuple is used as a tiebreaker\n",
        "    # if the priority value is the same for multiple nodes.\n",
        "    heappush(self.list, (value, len(self.list), content))\n",
        "\n",
        "  def pop(self):\n",
        "    \"\"\" Get the node with the smallest priority value \"\"\"\n",
        "    return heappop(self.list)[2]\n",
        "\n",
        "  def __len__(self):\n",
        "    \"\"\" Get the size of the queue. You can call len(queue) \"\"\"\n",
        "    return len(self.list)\n",
        "\n",
        "class Searcher:\n",
        "  def __init__(self):\n",
        "    self.expanded_nodes_count = 0\n",
        "\n",
        "  def search(self, start):\n",
        "    pass\n",
        "\n",
        "class State:\n",
        "  def __init__(self, grid):\n",
        "    self.grid = grid\n",
        "\n",
        "  def __hash__(self):\n",
        "    return hash((self.grid[0][0], self.grid[0][1], self.grid[0][2], \\\n",
        "                 self.grid[1][0], self.grid[1][1], self.grid[1][2], \\\n",
        "                 self.grid[2][0], self.grid[2][1], self.grid[2][2], ))\n",
        "\n",
        "  def __eq__(self, other):\n",
        "    return self.grid == other.grid\n",
        "\n"
      ]
    },
    {
      "cell_type": "code",
      "execution_count": 22,
      "metadata": {
        "id": "hGAEB4O3BYdz"
      },
      "outputs": [],
      "source": [
        "def successors(state):\n",
        "    # TODO implement\n",
        "    successors = []\n",
        "    row = None\n",
        "    col = None\n",
        "\n",
        "    #Find the 0\n",
        "    for i in range(3):\n",
        "        for j in range(3):\n",
        "          if state[i][j] == 0:\n",
        "            row = i\n",
        "            col = j\n",
        "            break\n",
        "        if row is not None:\n",
        "          break\n",
        "\n",
        "    next_dir = [(1,0), (0,1), (-1,0), (0,-1)]\n",
        "\n",
        "    for r, c in next_dir:\n",
        "      new_row = row + r\n",
        "      new_col = col + c\n",
        "      if new_row >= 0 and new_row < 3 and new_col >= 0 and new_col < 3:\n",
        "        new_grid = [row[:] for row in state]\n",
        "        new_grid[row][col] = new_grid[new_row][new_col]\n",
        "        new_grid[new_row][new_col] = 0\n",
        "\n",
        "        successors.append(new_grid)\n",
        "    return successors\n",
        "\n",
        "GOAL = [[1,2,3],[4,5,6],[7,8,0]]\n",
        "\n",
        "def is_goal(node):\n",
        "    # TODO implement\n",
        "    return node.state.grid == GOAL"
      ]
    },
    {
      "cell_type": "code",
      "execution_count": 23,
      "metadata": {
        "colab": {
          "base_uri": "https://localhost:8080/"
        },
        "id": "mL46c1w1YTn6",
        "outputId": "e97a7f84-45e6-420e-ed19-c0785ed83c6f"
      },
      "outputs": [
        {
          "name": "stdout",
          "output_type": "stream",
          "text": [
            "[[[1, 3, 6], [4, 8, 5], [7, 0, 2]], [[1, 3, 6], [4, 5, 0], [7, 8, 2]], [[1, 0, 6], [4, 3, 5], [7, 8, 2]], [[1, 3, 6], [0, 4, 5], [7, 8, 2]]]\n",
            "[[[7, 1, 2], [5, 6, 3], [4, 0, 8]], [[7, 1, 2], [0, 6, 3], [5, 4, 8]]]\n"
          ]
        }
      ],
      "source": [
        "# Example test cases\n",
        "print(successors([[1,3,6],[4,0,5],[7,8,2]]))\n",
        "#  [[[1, 3, 6], [4, 8, 5], [7, 0, 2]], \\\n",
        "#  [[1, 3, 6], [4, 5, 0], [7, 8, 2]], \\\n",
        "#  [[1, 0, 6], [4, 3, 5], [7, 8, 2]], \\\n",
        "#  [[1, 3, 6], [0, 4, 5], [7, 8, 2]]]\n",
        "\n",
        "print(successors([[7,1,2],[5,6,3],[0,4,8]]))\n",
        "# [[[7, 1, 2], [5, 6, 3], [4, 0, 8]], [[7, 1, 2], [0, 6, 3], [5, 4, 8]]]"
      ]
    },
    {
      "cell_type": "code",
      "execution_count": 24,
      "metadata": {
        "id": "JSP3OtwtBVZn"
      },
      "outputs": [],
      "source": [
        "from collections import deque\n",
        "\n",
        "class BfsSearcher(Searcher):\n",
        "  def __init__(self):\n",
        "    super().__init__()\n",
        "    \n",
        "  def search(self, start):\n",
        "    # TODO implement\n",
        "    start_state = State(start)\n",
        "    queue = deque([Node(start_state, None, 0)])\n",
        "\n",
        "    visited = set()\n",
        "    visited.add(start_state)\n",
        "\n",
        "    while queue:\n",
        "      curr = queue.popleft()\n",
        "      self.expanded_nodes_count += 1\n",
        "\n",
        "      if is_goal(curr):\n",
        "        return curr\n",
        "      \n",
        "      for successor_grid in successors(curr.state.grid):\n",
        "        successor_state = State(successor_grid)\n",
        "        if successor_state not in visited:\n",
        "          visited.add(successor_state)\n",
        "          queue.append(Node(successor_state, curr, curr.depth + 1))\n",
        "\n",
        "    return None"
      ]
    },
    {
      "cell_type": "code",
      "execution_count": 25,
      "metadata": {
        "id": "xET6ldzBdbfN"
      },
      "outputs": [
        {
          "name": "stdout",
          "output_type": "stream",
          "text": [
            "=== State 0 ===\n",
            "Elapsed time for BFS: 0.001007080078125\n",
            "Expanded nodes for BFS: 244\n",
            "Depth for BFS: 8\n",
            "=== State 1 ===\n",
            "Elapsed time for BFS: 0.05431628227233887\n",
            "Expanded nodes for BFS: 7573\n",
            "Depth for BFS: 16\n"
          ]
        }
      ],
      "source": [
        "import time\n",
        "\n",
        "start_easy = [[1,2,3],[5,0,7],[4,8,6]]\n",
        "\n",
        "start_hard = [[1,2,3],[4,7,6],[0,8,5]]\n",
        "\n",
        "\n",
        "for i, state in enumerate([start_easy, start_hard]):\n",
        "  print(f\"=== State {i} ===\")\n",
        "  t = time.time()\n",
        "  searcher = BfsSearcher()\n",
        "  sol = searcher.search(state)\n",
        "  elapsed_time = time.time() - t\n",
        "  print(\"Elapsed time for BFS:\", elapsed_time)\n",
        "  print(\"Expanded nodes for BFS:\", searcher.expanded_nodes_count)\n",
        "  print(\"Depth for BFS:\", sol.depth)"
      ]
    },
    {
      "cell_type": "code",
      "execution_count": 26,
      "metadata": {
        "id": "CuRo2AWZFWkX"
      },
      "outputs": [],
      "source": [
        "class IdsSearcher(Searcher):\n",
        "  def __init__(self):\n",
        "    super().__init__()\n",
        "  def search(self, start):\n",
        "    # TODO implement\n",
        "    start_node = Node(State(start),None,0)\n",
        "    depth_limit = 0\n",
        "\n",
        "    while True:\n",
        "      visited_depth = {}\n",
        "\n",
        "      stack = [start_node]\n",
        "      goal_state = None\n",
        "\n",
        "      while stack:\n",
        "        curr = stack.pop()\n",
        "\n",
        "        if is_goal(curr):\n",
        "          goal_state = curr\n",
        "          break\n",
        "        \n",
        "        if curr.depth == depth_limit:\n",
        "          continue\n",
        "\n",
        "        previous_depth = visited_depth.get(curr.state, float('inf'))\n",
        "        if curr.depth >= previous_depth:\n",
        "          continue\n",
        "\n",
        "        visited_depth[curr.state] = curr.depth\n",
        "        self.expanded_nodes_count += 1\n",
        "\n",
        "        for successor_grid in successors(curr.state.grid):\n",
        "          child_state = State(successor_grid)\n",
        "          child_node = Node(child_state,parent=curr,depth=curr.depth+1)\n",
        "          stack.append(child_node)\n",
        "      \n",
        "      if goal_state is not None:\n",
        "        return goal_state\n",
        "      \n",
        "      depth_limit += 1\n",
        "\n",
        "\n"
      ]
    },
    {
      "cell_type": "code",
      "execution_count": 27,
      "metadata": {
        "id": "GbbD3QddE4Vz"
      },
      "outputs": [
        {
          "name": "stdout",
          "output_type": "stream",
          "text": [
            "=== State 0 ===\n",
            "Elapsed time for IDS: 0.0010180473327636719\n",
            "Expanded nodes for IDS: 421\n",
            "Depth for IDS: 8\n",
            "=== State 1 ===\n",
            "Elapsed time for IDS: 0.08628678321838379\n",
            "Expanded nodes for IDS: 14614\n",
            "Depth for IDS: 16\n"
          ]
        }
      ],
      "source": [
        "# Run the algorithm\n",
        "\n",
        "for i, state in enumerate([start_easy, start_hard]):\n",
        "  print(f\"=== State {i} ===\")\n",
        "  t = time.time()\n",
        "  searcher = IdsSearcher()\n",
        "  sol = searcher.search(state)\n",
        "  elapsed_time = time.time() - t\n",
        "  print(\"Elapsed time for IDS:\", elapsed_time)\n",
        "  print(\"Expanded nodes for IDS:\", searcher.expanded_nodes_count)\n",
        "  print(\"Depth for IDS:\", sol.depth)"
      ]
    },
    {
      "cell_type": "code",
      "execution_count": 28,
      "metadata": {
        "id": "Tng_eQxoHfBV"
      },
      "outputs": [],
      "source": [
        "def manhattan_heuristic(node):\n",
        "    # TODO implement\n",
        "   if isinstance(node,Node):\n",
        "      node = node.state.grid\n",
        "   distance_sum = 0\n",
        "   for i in range(3):\n",
        "      for j in range(3):\n",
        "         val = node[i][j]\n",
        "         if val != 0:\n",
        "            goal_i = (val - 1) // 3\n",
        "            goal_j = (val - 1) % 3\n",
        "\n",
        "            distance_sum += abs(i - goal_i) + abs(j - goal_j)\n",
        "   return distance_sum\n",
        "\n",
        "def misplaced_tiles_heuristic(node):\n",
        "    # TODO implement\n",
        "    if isinstance(node,Node):\n",
        "       node = node.state.grid\n",
        "    m = 0\n",
        "    for i in range(3):\n",
        "       for j in range(3):\n",
        "          val = node[i][j]\n",
        "          if val != 0 and not val == GOAL[i][j]:\n",
        "             m += 1\n",
        "    return m\n",
        "\n",
        "class AStarSearcher(Searcher):\n",
        "    def __init__(self):\n",
        "        super().__init__()\n",
        "    def search(self, start, heuristic):\n",
        "        # TODO implement\n",
        "        c = 0\n",
        "        start_state = State(start)\n",
        "        start_node = Node(start_state, None, 0)\n",
        "\n",
        "        frontier = PriorityQueue()\n",
        "        frontier.push((heuristic(start_node), c), start_node)\n",
        "        c += 1\n",
        "\n",
        "        cost_so_far = {start_node.state: 0}\n",
        "\n",
        "        while len(frontier) > 0:\n",
        "            curr = frontier.pop()\n",
        "            \n",
        "            if is_goal(curr):\n",
        "                return curr\n",
        "\n",
        "            self.expanded_nodes_count += 1\n",
        "\n",
        "            current_cost = cost_so_far[curr.state]\n",
        "\n",
        "            for successor_grid in successors(curr.state.grid):\n",
        "                successor_state = State(successor_grid)\n",
        "                new_cost = current_cost + 1\n",
        "\n",
        "                if successor_state not in cost_so_far or new_cost < cost_so_far[successor_state]:\n",
        "                    cost_so_far[successor_state] = new_cost\n",
        "                    succ_node = Node(successor_state, curr, curr.depth + 1)\n",
        "                    priority = new_cost + heuristic(succ_node)\n",
        "                    \n",
        "                    frontier.push((priority, c), succ_node)\n",
        "                    c += 1\n",
        "\n",
        "        return None\n"
      ]
    },
    {
      "cell_type": "code",
      "execution_count": 31,
      "metadata": {
        "id": "6H6hUreMqKgI"
      },
      "outputs": [
        {
          "name": "stdout",
          "output_type": "stream",
          "text": [
            "10\n",
            "3\n"
          ]
        }
      ],
      "source": [
        "# Example test cases\n",
        "print(manhattan_heuristic([[7,1,2],[5,6,3],[0,4,8]]))\n",
        "# should be 10\n",
        "\n",
        "print(misplaced_tiles_heuristic([[1,2,3],[0,5,6],[4,7,8]]))\n",
        "# should be 3"
      ]
    },
    {
      "cell_type": "code",
      "execution_count": 33,
      "metadata": {
        "id": "zgdxgekie45N"
      },
      "outputs": [
        {
          "name": "stdout",
          "output_type": "stream",
          "text": [
            "=== State 0 ===\n",
            "Elapsed time for A star with Manhattan: 0.0010056495666503906\n",
            "Expanded nodes for A star 15\n",
            "Depth for BFS: 8\n",
            "Elapsed time for A star with Misplaced Tiles: 0.0\n",
            "Expanded nodes for A star 26\n",
            "Depth for BFS: 8\n",
            "=== State 1 ===\n",
            "Elapsed time for A star with Manhattan: 0.0019981861114501953\n",
            "Expanded nodes for A star 290\n",
            "Depth for BFS: 16\n",
            "Elapsed time for A star with Misplaced Tiles: 0.006000518798828125\n",
            "Expanded nodes for A star 669\n",
            "Depth for BFS: 16\n"
          ]
        }
      ],
      "source": [
        "for i, state in enumerate([start_easy, start_hard]):\n",
        "  print(f\"=== State {i} ===\")\n",
        "\n",
        "  t = time.time()\n",
        "  searcher = AStarSearcher()\n",
        "  sol = searcher.search(state, manhattan_heuristic)\n",
        "  elapsed_time = time.time() - t\n",
        "  print(\"Elapsed time for A star with Manhattan:\", elapsed_time)\n",
        "  print(\"Expanded nodes for A star\", searcher.expanded_nodes_count)\n",
        "  print(\"Depth for BFS:\", sol.depth)\n",
        "\n",
        "  t = time.time()\n",
        "  searcher = AStarSearcher()\n",
        "  sol = searcher.search(state, misplaced_tiles_heuristic)\n",
        "  elapsed_time = time.time() - t\n",
        "  print(\"Elapsed time for A star with Misplaced Tiles:\", elapsed_time)\n",
        "  print(\"Expanded nodes for A star\", searcher.expanded_nodes_count)\n",
        "  print(\"Depth for BFS:\", sol.depth)\n"
      ]
    },
    {
      "cell_type": "markdown",
      "metadata": {},
      "source": [
        "The number of nodes expanded by BFS and IDS grows exponentially with the depth of the solution, quickly making them very expensive for deeper puzzles. On the other hand, A* with an admissible heuristic, particularly Manhattan distance, greatly reduces the number of node expansions. Even though Manhattan distance performs better than the Misplaced Tiles heuristic, both versions of A* still outperform BFS and IDS by a notable margin."
      ]
    }
  ],
  "metadata": {
    "accelerator": "GPU",
    "colab": {
      "gpuType": "T4",
      "provenance": []
    },
    "kernelspec": {
      "display_name": "base",
      "language": "python",
      "name": "python3"
    },
    "language_info": {
      "codemirror_mode": {
        "name": "ipython",
        "version": 3
      },
      "file_extension": ".py",
      "mimetype": "text/x-python",
      "name": "python",
      "nbconvert_exporter": "python",
      "pygments_lexer": "ipython3",
      "version": "3.12.9"
    }
  },
  "nbformat": 4,
  "nbformat_minor": 0
}
